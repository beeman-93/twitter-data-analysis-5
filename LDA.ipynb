{
 "cells": [
  {
   "cell_type": "code",
   "execution_count": null,
   "id": "4f0d1a34",
   "metadata": {},
   "outputs": [],
   "source": [
    "## Topic modeling with Latent Dirichlet Allocation (LDA) from Gensim package"
   ]
  },
  {
   "cell_type": "code",
   "execution_count": 1,
   "id": "b6748e93",
   "metadata": {},
   "outputs": [
    {
     "name": "stderr",
     "output_type": "stream",
     "text": [
      "[nltk_data] Downloading package stopwords to\n",
      "[nltk_data]     /Users/danmengcai/nltk_data...\n",
      "[nltk_data]   Package stopwords is already up-to-date!\n"
     ]
    },
    {
     "data": {
      "text/plain": [
       "True"
      ]
     },
     "execution_count": 1,
     "metadata": {},
     "output_type": "execute_result"
    }
   ],
   "source": [
    "import nltk; nltk.download('stopwords')"
   ]
  },
  {
   "cell_type": "code",
   "execution_count": 2,
   "id": "8ef09630",
   "metadata": {},
   "outputs": [],
   "source": [
    "# Import Packages\n",
    "import re\n",
    "import numpy as np\n",
    "import pandas as pd\n",
    "from pprint import pprint\n",
    "\n",
    "# Gensim\n",
    "import gensim\n",
    "import gensim.corpora as corpora\n",
    "from gensim.utils import simple_preprocess\n",
    "from gensim.models import CoherenceModel\n",
    "\n",
    "# spacy for lemmatization\n",
    "import spacy\n",
    "\n",
    "# Plotting tools\n",
    "import pyLDAvis\n",
    "import pyLDAvis.gensim_models  # don't skip this\n",
    "import matplotlib.pyplot as plt\n",
    "%matplotlib inline\n",
    "\n",
    "# Enable logging for gensim - optional\n",
    "import logging\n",
    "logging.basicConfig(format='%(asctime)s : %(levelname)s : %(message)s', level=logging.ERROR)\n",
    "\n",
    "import warnings\n",
    "warnings.filterwarnings(\"ignore\",category=DeprecationWarning)"
   ]
  },
  {
   "cell_type": "code",
   "execution_count": 3,
   "id": "7ab2bb9e",
   "metadata": {},
   "outputs": [],
   "source": [
    "# Prepare Stopwords\n",
    "from nltk.corpus import stopwords\n",
    "stop_words = stopwords.words('english')\n",
    "stop_words.extend(['m','really','even','go','look','day'])"
   ]
  },
  {
   "cell_type": "code",
   "execution_count": 4,
   "id": "0a8566dc",
   "metadata": {},
   "outputs": [],
   "source": [
    "# What is LDA?\n",
    "# LDA’s approach to topic modeling is it considers each document as a collection of topics in a certain proportion. \n",
    "# And each topic as a collection of keywords, again, in a certain proportion.\n",
    "# Once you provide the algorithm with the number of topics, \n",
    "# all it does is to rearrange the topics distribution within the documents, \n",
    "# and keywords distribution within the topics to obtain a good composition of topic-keywords distribution.\n",
    "# The following are key factors to obtaining good segregation topics:\n",
    "\n",
    "# The quality of text processing.\n",
    "# The variety of topics the text talks about.\n",
    "# The choice of topic modeling algorithm.\n",
    "# The number of topics fed to the algorithm.\n",
    "# The algorithms tuning parameters."
   ]
  },
  {
   "cell_type": "code",
   "execution_count": 6,
   "id": "5745b5b1",
   "metadata": {},
   "outputs": [],
   "source": [
    "# Import Twitter Dataset\n",
    "df = pd.read_csv('preprocess1.csv')\n",
    "#df.head()"
   ]
  },
  {
   "cell_type": "code",
   "execution_count": 7,
   "id": "47e8ccd0",
   "metadata": {},
   "outputs": [],
   "source": [
    "# Remove emojis, newline characters, etc\n",
    "# Convert to list \n",
    "data = df.Translated.values.tolist()\n",
    "\n",
    "# Remove Emojis\n",
    "data = [re.sub('[^\\w\\s#@/:%.,_-]', '', tweet, flags=re.UNICODE) for tweet in data]\n",
    "\n",
    "# Remove new line characters\n",
    "data = [re.sub('\\s+', ' ', tweet) for tweet in data]\n",
    "\n",
    "#pprint(data[:1])"
   ]
  },
  {
   "cell_type": "code",
   "execution_count": 8,
   "id": "c8ba0462",
   "metadata": {},
   "outputs": [],
   "source": [
    "# Tokenize words and clean-up text\n",
    "\n",
    "def sent_to_words(tweets):\n",
    "    for tweet in tweets:\n",
    "        yield(gensim.utils.simple_preprocess(str(tweet), deacc=True))  # deacc=True removes punctuations\n",
    "\n",
    "data_words = list(sent_to_words(data))\n",
    "\n",
    "#print(data_words)"
   ]
  },
  {
   "cell_type": "code",
   "execution_count": 9,
   "id": "27503f2a",
   "metadata": {},
   "outputs": [],
   "source": [
    "# Creating Bigram and Trigram Models\n",
    "# Build the bigram and trigram models\n",
    "bigram = gensim.models.Phrases(data_words, min_count=3, threshold=50) # higher threshold fewer phrases.\n",
    "trigram = gensim.models.Phrases(bigram[data_words], threshold=30)  \n",
    "\n",
    "# Faster way to get a sentence clubbed as a trigram/bigram\n",
    "bigram_mod = gensim.models.phrases.Phraser(bigram)\n",
    "trigram_mod = gensim.models.phrases.Phraser(trigram)\n",
    "\n",
    "# See trigram example\n",
    "#print(trigram_mod[bigram_mod[data_words[0]]])"
   ]
  },
  {
   "cell_type": "code",
   "execution_count": 10,
   "id": "7d4c910d",
   "metadata": {},
   "outputs": [],
   "source": [
    "# Remove stopwords, make bigrams and lemmatize \n",
    "# Define functions for stopwords, bigrams, trigrams and lemmatization\n",
    "def remove_stopwords(texts):\n",
    "    return [[word for word in simple_preprocess(str(doc)) if word not in stop_words] for doc in texts]\n",
    "\n",
    "def make_bigrams(texts):\n",
    "    return [bigram_mod[doc] for doc in texts]\n",
    "\n",
    "def make_trigrams(texts):\n",
    "    return [trigram_mod[bigram_mod[doc]] for doc in texts]\n",
    "\n",
    "def lemmatization(texts, allowed_postags=['NOUN', 'ADJ', 'VERB', 'ADV']):\n",
    "    \n",
    "    texts_out = []\n",
    "    for sent in texts:\n",
    "        doc = nlp(\" \".join(sent)) \n",
    "        texts_out.append([token.lemma_ for token in doc if token.pos_ in allowed_postags])\n",
    "    return texts_out"
   ]
  },
  {
   "cell_type": "code",
   "execution_count": 11,
   "id": "b77094aa",
   "metadata": {},
   "outputs": [],
   "source": [
    "# Initialize spacy 'en' model, keeping only tagger component (for efficiency)\n",
    "# python3 -m spacy download en\n",
    "nlp = spacy.load('en_core_web_sm', disable=['parser', 'ner'])\n",
    "\n",
    "# Do lemmatization keeping only noun, adj, vb, adv\n",
    "data_lemmatized = lemmatization(data_words, allowed_postags=['NOUN', 'ADJ', 'VERB', 'ADV'])\n",
    "#print (data_lemmatized[:3])\n",
    "#print ()\n",
    "# Remove Stop Words\n",
    "data_words_nostops = remove_stopwords(data_lemmatized)\n",
    "#print (data_words_nostops[:3])\n",
    "#print ()\n",
    "# Form Bigrams\n",
    "data_words_bigrams = make_bigrams(data_words_nostops)\n",
    "#print (data_words_bigrams[:3])"
   ]
  },
  {
   "cell_type": "code",
   "execution_count": 12,
   "id": "3763a94a",
   "metadata": {},
   "outputs": [],
   "source": [
    "#TF-IDF REMOVAL\n",
    "from gensim.models import TfidfModel\n",
    "\n",
    "id2word = corpora.Dictionary(data_words_bigrams)\n",
    "\n",
    "texts = data_words_bigrams\n",
    "\n",
    "corpus = [id2word.doc2bow(text) for text in texts]\n",
    "# print (corpus[0][0:20])\n",
    "\n",
    "tfidf = TfidfModel(corpus, id2word=id2word)\n",
    "\n",
    "low_value = 0.03\n",
    "words  = []\n",
    "words_missing_in_tfidf = []\n",
    "for i in range(0, len(corpus)):\n",
    "    bow = corpus[i]\n",
    "    low_value_words = [] #reinitialize to be safe. You can skip this.\n",
    "    tfidf_ids = [id for id, value in tfidf[bow]]\n",
    "    bow_ids = [id for id, value in bow]\n",
    "    low_value_words = [id for id, value in tfidf[bow] if value < low_value]\n",
    "    drops = low_value_words+words_missing_in_tfidf\n",
    "    for item in drops:\n",
    "        words.append(id2word[item])\n",
    "    words_missing_in_tfidf = [id for id in bow_ids if id not in tfidf_ids] # The words with tf-idf socre 0 will be missing\n",
    "\n",
    "    new_bow = [b for b in bow if b[0] not in low_value_words and b[0] not in words_missing_in_tfidf]\n",
    "    corpus[i] = new_bow"
   ]
  },
  {
   "cell_type": "code",
   "execution_count": 13,
   "id": "c8ce0b05",
   "metadata": {},
   "outputs": [],
   "source": [
    "# Create the Dictionary and Corpus needed for Topic Modeling\n",
    "# Create Dictionary\n",
    "# id2word = corpora.Dictionary(data_words_bigrams)\n",
    "\n",
    "# Create Corpus\n",
    "# texts = data_lemmatized\n",
    "\n",
    "# Term Document Frequency\n",
    "# corpus = [id2word.doc2bow(text) for text in texts]\n",
    "\n",
    "# View\n",
    "#print(corpus[:1])"
   ]
  },
  {
   "cell_type": "code",
   "execution_count": 14,
   "id": "6ec43752",
   "metadata": {},
   "outputs": [],
   "source": [
    "#id2word[0]"
   ]
  },
  {
   "cell_type": "code",
   "execution_count": 15,
   "id": "581a24ca",
   "metadata": {},
   "outputs": [],
   "source": [
    "# Human readable format of corpus (term-frequency)\n",
    "#[[(id2word[id], freq) for id, freq in cp] for cp in corpus[:1]]"
   ]
  },
  {
   "cell_type": "code",
   "execution_count": 16,
   "id": "31ce06d2",
   "metadata": {},
   "outputs": [],
   "source": [
    "# Building the Topic Model\n",
    "lda_model = gensim.models.ldamodel.LdaModel(corpus=corpus,\n",
    "                                           id2word=id2word,\n",
    "                                           num_topics=4, \n",
    "                                           random_state=100,\n",
    "                                           update_every=1,\n",
    "                                           chunksize=10,\n",
    "                                           passes=10,\n",
    "                                           alpha='symmetric',\n",
    "                                           per_word_topics=True)"
   ]
  },
  {
   "cell_type": "code",
   "execution_count": 17,
   "id": "217a642e",
   "metadata": {},
   "outputs": [
    {
     "name": "stdout",
     "output_type": "stream",
     "text": [
      "[(0,\n",
      "  '0.048*\"corona\" + 0.031*\"get\" + 0.027*\"home\" + 0.025*\"stress\" + '\n",
      "  '0.025*\"tired\" + 0.024*\"want\" + 0.024*\"work\" + 0.016*\"sleep\" + 0.012*\"long\" '\n",
      "  '+ 0.012*\"well\"'),\n",
      " (1,\n",
      "  '0.040*\"stress\" + 0.030*\"time\" + 0.026*\"take\" + 0.024*\"think\" + 0.019*\"able\" '\n",
      "  '+ 0.013*\"hour\" + 0.013*\"people\" + 0.011*\"fever\" + 0.011*\"afraid\" + '\n",
      "  '0.010*\"wonder\"'),\n",
      " (2,\n",
      "  '0.032*\"corona\" + 0.032*\"stressful\" + 0.020*\"way\" + 0.019*\"child\" + '\n",
      "  '0.013*\"put\" + 0.012*\"help\" + 0.012*\"family\" + 0.011*\"drink\" + 0.011*\"play\" '\n",
      "  '+ 0.011*\"cause\"'),\n",
      " (3,\n",
      "  '0.030*\"fatigue\" + 0.025*\"question\" + 0.019*\"relieve_stress\" + 0.018*\"come\" '\n",
      "  '+ 0.015*\"anonymous\" + 0.014*\"hard\" + 0.012*\"work\" + 0.011*\"eat\" + '\n",
      "  '0.011*\"increase\" + 0.011*\"see\"')]\n"
     ]
    }
   ],
   "source": [
    "# Print the Keyword in the 4 topics\n",
    "pprint(lda_model.print_topics())\n",
    "doc_lda = lda_model[corpus]"
   ]
  },
  {
   "cell_type": "code",
   "execution_count": 18,
   "id": "693d5cd3",
   "metadata": {},
   "outputs": [
    {
     "name": "stderr",
     "output_type": "stream",
     "text": [
      "/Users/danmengcai/opt/anaconda3/envs/newPy/lib/python3.8/site-packages/pyLDAvis/_prepare.py:246: FutureWarning: In a future version of pandas all arguments of DataFrame.drop except for the argument 'labels' will be keyword-only.\n",
      "  default_term_info = default_term_info.sort_values(\n"
     ]
    }
   ],
   "source": [
    "# Visualize the topics\n",
    "pyLDAvis.enable_notebook()\n",
    "vis = pyLDAvis.gensim_models.prepare(lda_model, corpus, id2word, R=30, sort_topics=False)\n",
    "#vis"
   ]
  },
  {
   "cell_type": "code",
   "execution_count": 19,
   "id": "192793fa",
   "metadata": {},
   "outputs": [
    {
     "data": {
      "text/html": [
       "\n",
       "<link rel=\"stylesheet\" type=\"text/css\" href=\"https://cdn.jsdelivr.net/gh/bmabey/pyLDAvis@3.3.1/pyLDAvis/js/ldavis.v1.0.0.css\">\n",
       "\n",
       "\n",
       "<div id=\"ldavis_el41901406917646284961122728674\"></div>\n",
       "<script type=\"text/javascript\">\n",
       "\n",
       "var ldavis_el41901406917646284961122728674_data = {\"mdsDat\": {\"x\": [0.17949149654035246, 0.02151070455142326, -0.031153141486437476, -0.16984905960533814], \"y\": [0.0494117610197532, -0.18966735978535815, 0.13722948317532033, 0.003026115590284695], \"topics\": [1, 2, 3, 4], \"cluster\": [1, 1, 1, 1], \"Freq\": [32.36264496305709, 24.865891106815635, 19.825215584304456, 22.946248345822813]}, \"tinfo\": {\"Term\": [\"corona\", \"stress\", \"get\", \"stressful\", \"fatigue\", \"home\", \"take\", \"time\", \"question\", \"want\", \"think\", \"able\", \"way\", \"tired\", \"relieve_stress\", \"child\", \"come\", \"sleep\", \"anonymous\", \"work\", \"hour\", \"put\", \"long\", \"well\", \"help\", \"week\", \"family\", \"hard\", \"drink\", \"eat\", \"get\", \"home\", \"want\", \"sleep\", \"well\", \"long\", \"week\", \"today\", \"tomorrow\", \"last\", \"hope\", \"ill\", \"positive\", \"infect\", \"night\", \"fine\", \"cancel\", \"completely\", \"maybe\", \"new\", \"summer\", \"still\", \"finish\", \"plan\", \"pass\", \"bed\", \"mask\", \"let\", \"early\", \"hot\", \"person\", \"year\", \"away\", \"tired\", \"corona\", \"work\", \"coronavirus\", \"believe\", \"good\", \"stress\", \"feel\", \"symptom\", \"fever\", \"take\", \"think\", \"able\", \"hour\", \"afraid\", \"past\", \"friend\", \"leave\", \"wonder\", \"yesterday\", \"try\", \"daughter\", \"contact\", \"meet\", \"break\", \"continue\", \"soon\", \"yet\", \"month\", \"minute\", \"measure\", \"shopping\", \"much\", \"patient\", \"possible\", \"careful\", \"cry\", \"daily\", \"husband\", \"condition\", \"time\", \"sure\", \"stress\", \"people\", \"fever\", \"many\", \"infection\", \"tired\", \"feel\", \"stressful\", \"child\", \"way\", \"put\", \"help\", \"drink\", \"cause\", \"family\", \"painful\", \"room\", \"play\", \"parent\", \"tell\", \"medical\", \"know\", \"favorite\", \"like\", \"th\", \"somewhere\", \"single\", \"alcohol\", \"hospital\", \"wreck\", \"crisis\", \"use\", \"quite\", \"dangerous\", \"meal\", \"live\", \"sick\", \"taste\", \"pretty\", \"workplace\", \"disease\", \"force\", \"make\", \"corona\", \"state\", \"fatigue\", \"question\", \"come\", \"anonymous\", \"relieve_stress\", \"eat\", \"increase\", \"first_time\", \"see\", \"also\", \"get_rid\", \"start\", \"bad\", \"cough\", \"question_box\", \"food\", \"little\", \"shirt\", \"team\", \"back\", \"thank\", \"draw\", \"smile\", \"finally\", \"number\", \"scared\", \"video\", \"japanese\", \"different\", \"however\", \"hard\", \"fun\", \"answer\", \"work\", \"good\", \"feel\", \"people\"], \"Freq\": [82.0, 68.0, 38.0, 24.0, 26.0, 33.0, 25.0, 32.0, 22.0, 30.0, 23.0, 18.0, 15.0, 39.0, 17.0, 14.0, 15.0, 19.0, 13.0, 41.0, 13.0, 10.0, 15.0, 15.0, 9.0, 15.0, 9.0, 15.0, 9.0, 10.0, 37.58966634923915, 32.796906681052505, 29.673686859417124, 19.33379668011835, 15.010572268592382, 15.171445284547511, 14.477980533116844, 13.098927844568676, 13.091311889476822, 11.791234897266857, 10.652382513875533, 9.787764624828894, 10.64195154753454, 9.531570246893892, 8.223783163438297, 8.245128819850244, 9.273979137954333, 7.466213392540137, 6.763304970212624, 6.530383771500979, 6.795043598252896, 5.990731824492039, 6.380609748327514, 6.081942385395154, 5.909322765287183, 5.558439892526631, 5.789520332472217, 5.306715280640327, 5.188407117495283, 5.202043249746861, 6.294753606484511, 11.80916386496485, 10.502428157588204, 30.696443279277204, 58.24295021597432, 28.879248040097753, 13.379386666768028, 6.451855505435856, 14.156229964524476, 30.78982861216671, 12.77243190648944, 7.193199832768258, 7.0807173365374805, 24.414527196688734, 22.610895436592873, 17.939598021022526, 12.55964328102426, 9.994454194874713, 9.2043763223462, 8.934469017991631, 9.032620376767188, 9.820768005759838, 8.672586820960662, 8.257907765649215, 7.448564058316695, 7.139126412077773, 7.011540800124294, 6.6790587475366685, 6.289260226397881, 5.8843853267976005, 6.471781527967994, 6.720262257632697, 5.52269298156872, 5.4546460146975315, 5.512144614580069, 5.55709445287505, 6.1713667898872355, 5.10446802966701, 4.879398583339091, 4.681340782049274, 6.238864748438967, 4.238416120143614, 5.04550497187837, 27.6688811976002, 5.522527407631106, 37.755312586261034, 11.877709590127171, 10.049646959815536, 6.257861743454796, 6.63503438040877, 8.896556072045229, 6.775537809542327, 23.559436195718746, 13.824390053263748, 14.973931974556812, 9.707652738601302, 9.070615578143366, 8.568957151737944, 7.891387452816093, 8.984481328452794, 7.878251097357605, 7.711764623158963, 8.425654361303982, 6.183163080264383, 5.8493272052537035, 5.731391122271447, 5.480655705439757, 5.467231360382838, 5.227782426136719, 5.499103714649773, 4.115602378573092, 4.140456679923848, 3.726373840777022, 7.831810082307294, 5.3396015961525345, 3.262116543619278, 3.1981870214951003, 3.0933080881469133, 3.1689246381003193, 3.088925365862461, 2.8363683887661444, 2.804312436787785, 3.0125997848229287, 4.465779665779446, 3.047811289898214, 3.145145173682671, 3.281330209131999, 7.87287621790413, 23.80082219872343, 3.6872638806069262, 26.042538505508464, 21.491431542247, 15.157908581145847, 12.774769669187432, 16.49579092528759, 9.668158242960212, 9.444413357876442, 8.742363038012833, 9.102342593181016, 8.611972246705497, 8.4556157196292, 7.922306092682949, 7.876513629069094, 7.515840882280457, 6.4842889218834845, 6.676802388216002, 6.465799121032797, 6.669168434558262, 6.161869978794611, 5.941558080981977, 5.5793654592946655, 6.277202348189169, 6.0666606726418575, 4.985184038489842, 4.885368063894198, 5.565241076902952, 4.680511846301193, 4.205757209201301, 5.672269219767788, 5.189467287371046, 11.687569379166991, 7.9404223581418725, 6.179658546358714, 10.547293288518247, 7.240606817295945, 7.137158824192435, 5.868113946294889], \"Total\": [82.0, 68.0, 38.0, 24.0, 26.0, 33.0, 25.0, 32.0, 22.0, 30.0, 23.0, 18.0, 15.0, 39.0, 17.0, 14.0, 15.0, 19.0, 13.0, 41.0, 13.0, 10.0, 15.0, 15.0, 9.0, 15.0, 9.0, 15.0, 9.0, 10.0, 38.20459337976645, 33.40634900255323, 30.40389845902195, 19.99504810124191, 15.615519794119173, 15.789613266472468, 15.088356009894836, 13.693909426347767, 13.695191787743518, 12.40632907848673, 11.275040652349018, 10.394591557783576, 11.333138126512813, 10.155556689493435, 8.820021995383383, 8.86833928409302, 10.029801695956461, 8.09099546326196, 7.351395588725886, 7.171274763680274, 7.464556865910338, 6.614460793323166, 7.055313243425634, 6.732678538068567, 6.549488123887262, 6.170789192519673, 6.430583888030785, 5.907078024757633, 5.785087970609541, 5.801642704602328, 7.042488401993124, 13.598370671819879, 12.190530366762179, 39.9972592569635, 82.48653421769559, 41.773533898736886, 18.268141627969985, 7.291327246885169, 21.785253657334486, 68.9667962410953, 26.869056449614213, 10.513476349906181, 17.523491639721176, 25.061015946567117, 23.246974709411784, 18.625442363869823, 13.252233359703581, 10.627751771419351, 9.848426277093465, 9.589827904919535, 9.700355431876678, 10.549743867735282, 9.321772789342992, 8.899150022202727, 8.085325836014842, 7.76383984299261, 7.665670872876328, 7.326912255219359, 6.907528200922996, 6.51820272252563, 7.1809787149399975, 7.459842583709268, 6.138797946537622, 6.0729752137324375, 6.141376349770998, 6.198251416087211, 6.9204186139340615, 5.727121780272568, 5.519666139260935, 5.2978310847988475, 7.091735155138532, 4.844408938507561, 5.777312973935249, 32.8109967889213, 6.465231165426963, 68.9667962410953, 18.197384345390795, 17.523491639721176, 8.288215003613493, 9.333965948770704, 39.9972592569635, 26.869056449614213, 24.222713763996317, 14.484668249682345, 15.741582412472285, 10.384830210302104, 9.716493579010251, 9.25396283149826, 8.523027939304336, 9.720543300095894, 8.531703031210114, 8.360220106584663, 9.163579404505354, 6.821628900234039, 6.505086668044774, 6.386992247630423, 6.12936090462351, 6.144468574036949, 5.904979165702402, 6.255611506669966, 4.778992093902283, 4.8206305817931625, 4.354404466395639, 9.180973514555546, 6.271166886862177, 3.8838609741648713, 3.8446685693769416, 3.7658579473590197, 3.8609910976958512, 3.778904064024257, 3.4740382474442066, 3.4506016061327984, 3.7288165585329964, 5.821159406753941, 3.7812101596686554, 3.9282509699452772, 4.15282162007593, 14.643043893928027, 82.48653421769559, 5.388457809041796, 26.69334111836905, 22.109060913026653, 15.790179617982286, 13.3744582117381, 17.272060598780033, 10.309420222967658, 10.080652576483871, 9.356488987793625, 9.754243083591248, 9.252799003100462, 9.098235539585929, 8.58181102375334, 8.597378117447668, 8.206660357220711, 7.084249705087741, 7.298929506032383, 7.09824945660314, 7.3246134993904715, 6.789155028601812, 6.5576418909233976, 6.1823906771400035, 6.975929323831777, 6.773134065281457, 5.631605964830358, 5.519035691418885, 6.3647311376240285, 5.359488165780419, 4.8332729322690025, 6.535387289683296, 5.990894053240647, 15.046764615852188, 9.880086930074114, 7.552993903256418, 41.773533898736886, 21.785253657334486, 26.869056449614213, 18.197384345390795], \"Category\": [\"Default\", \"Default\", \"Default\", \"Default\", \"Default\", \"Default\", \"Default\", \"Default\", \"Default\", \"Default\", \"Default\", \"Default\", \"Default\", \"Default\", \"Default\", \"Default\", \"Default\", \"Default\", \"Default\", \"Default\", \"Default\", \"Default\", \"Default\", \"Default\", \"Default\", \"Default\", \"Default\", \"Default\", \"Default\", \"Default\", \"Topic1\", \"Topic1\", \"Topic1\", \"Topic1\", \"Topic1\", \"Topic1\", \"Topic1\", \"Topic1\", \"Topic1\", \"Topic1\", \"Topic1\", \"Topic1\", \"Topic1\", \"Topic1\", \"Topic1\", \"Topic1\", \"Topic1\", \"Topic1\", \"Topic1\", \"Topic1\", \"Topic1\", \"Topic1\", \"Topic1\", \"Topic1\", \"Topic1\", \"Topic1\", \"Topic1\", \"Topic1\", \"Topic1\", \"Topic1\", \"Topic1\", \"Topic1\", \"Topic1\", \"Topic1\", \"Topic1\", \"Topic1\", \"Topic1\", \"Topic1\", \"Topic1\", \"Topic1\", \"Topic1\", \"Topic1\", \"Topic1\", \"Topic2\", \"Topic2\", \"Topic2\", \"Topic2\", \"Topic2\", \"Topic2\", \"Topic2\", \"Topic2\", \"Topic2\", \"Topic2\", \"Topic2\", \"Topic2\", \"Topic2\", \"Topic2\", \"Topic2\", \"Topic2\", \"Topic2\", \"Topic2\", \"Topic2\", \"Topic2\", \"Topic2\", \"Topic2\", \"Topic2\", \"Topic2\", \"Topic2\", \"Topic2\", \"Topic2\", \"Topic2\", \"Topic2\", \"Topic2\", \"Topic2\", \"Topic2\", \"Topic2\", \"Topic2\", \"Topic2\", \"Topic2\", \"Topic2\", \"Topic2\", \"Topic2\", \"Topic3\", \"Topic3\", \"Topic3\", \"Topic3\", \"Topic3\", \"Topic3\", \"Topic3\", \"Topic3\", \"Topic3\", \"Topic3\", \"Topic3\", \"Topic3\", \"Topic3\", \"Topic3\", \"Topic3\", \"Topic3\", \"Topic3\", \"Topic3\", \"Topic3\", \"Topic3\", \"Topic3\", \"Topic3\", \"Topic3\", \"Topic3\", \"Topic3\", \"Topic3\", \"Topic3\", \"Topic3\", \"Topic3\", \"Topic3\", \"Topic3\", \"Topic3\", \"Topic3\", \"Topic3\", \"Topic3\", \"Topic3\", \"Topic3\", \"Topic3\", \"Topic4\", \"Topic4\", \"Topic4\", \"Topic4\", \"Topic4\", \"Topic4\", \"Topic4\", \"Topic4\", \"Topic4\", \"Topic4\", \"Topic4\", \"Topic4\", \"Topic4\", \"Topic4\", \"Topic4\", \"Topic4\", \"Topic4\", \"Topic4\", \"Topic4\", \"Topic4\", \"Topic4\", \"Topic4\", \"Topic4\", \"Topic4\", \"Topic4\", \"Topic4\", \"Topic4\", \"Topic4\", \"Topic4\", \"Topic4\", \"Topic4\", \"Topic4\", \"Topic4\", \"Topic4\", \"Topic4\", \"Topic4\", \"Topic4\"], \"logprob\": [30.0, 29.0, 28.0, 27.0, 26.0, 25.0, 24.0, 23.0, 22.0, 21.0, 20.0, 19.0, 18.0, 17.0, 16.0, 15.0, 14.0, 13.0, 12.0, 11.0, 10.0, 9.0, 8.0, 7.0, 6.0, 5.0, 4.0, 3.0, 2.0, 1.0, -3.4781, -3.6145, -3.7145, -4.143, -4.3961, -4.3854, -4.4322, -4.5323, -4.5329, -4.6374, -4.739, -4.8237, -4.74, -4.8502, -4.9978, -4.9952, -4.8776, -5.0944, -5.1933, -5.2283, -5.1886, -5.3146, -5.2515, -5.2995, -5.3283, -5.3895, -5.3488, -5.4358, -5.4584, -5.4558, -5.2651, -4.6359, -4.7532, -3.6807, -3.0402, -3.7417, -4.5111, -5.2404, -4.4547, -3.6776, -4.5575, -5.1317, -5.1474, -3.6461, -3.7229, -3.9543, -4.3108, -4.5393, -4.6216, -4.6514, -4.6405, -4.5568, -4.6811, -4.7301, -4.8333, -4.8757, -4.8937, -4.9423, -5.0025, -5.069, -4.9738, -4.9362, -5.1324, -5.1448, -5.1343, -5.1262, -5.0214, -5.2112, -5.2563, -5.2977, -5.0105, -5.3971, -5.2228, -3.521, -5.1325, -3.2102, -4.3666, -4.5338, -5.0075, -4.9489, -4.6556, -4.928, -3.4552, -3.9883, -3.9084, -4.3418, -4.4097, -4.4666, -4.549, -4.4193, -4.5507, -4.572, -4.4835, -4.7929, -4.8484, -4.8688, -4.9135, -4.916, -4.9608, -4.9102, -5.2, -5.194, -5.2993, -4.5566, -4.9396, -5.4324, -5.4522, -5.4855, -5.4614, -5.4869, -5.5722, -5.5836, -5.512, -5.1183, -5.5003, -5.4689, -5.4265, -4.5513, -3.445, -5.3099, -3.5012, -3.6933, -4.0424, -4.2135, -3.9579, -4.4921, -4.5155, -4.5928, -4.5524, -4.6078, -4.6261, -4.6913, -4.6971, -4.7439, -4.8916, -4.8623, -4.8944, -4.8635, -4.9426, -4.979, -5.0419, -4.924, -4.9581, -5.1545, -5.1747, -5.0444, -5.2175, -5.3245, -5.0254, -5.1143, -4.3024, -4.689, -4.9397, -4.4051, -4.7813, -4.7956, -4.9914], \"loglift\": [30.0, 29.0, 28.0, 27.0, 26.0, 25.0, 24.0, 23.0, 22.0, 21.0, 20.0, 19.0, 18.0, 17.0, 16.0, 15.0, 14.0, 13.0, 12.0, 11.0, 10.0, 9.0, 8.0, 7.0, 6.0, 5.0, 4.0, 3.0, 2.0, 1.0, 1.1119, 1.1098, 1.1039, 1.0945, 1.0887, 1.0882, 1.0869, 1.0837, 1.0831, 1.0773, 1.0714, 1.068, 1.0652, 1.0648, 1.0582, 1.0553, 1.0498, 1.0478, 1.0448, 1.0345, 1.0342, 1.0291, 1.0276, 1.0265, 1.0253, 1.0237, 1.0231, 1.021, 1.0193, 1.0191, 1.0159, 0.9871, 0.9791, 0.8635, 0.7802, 0.759, 0.8167, 1.0058, 0.6971, 0.3217, 0.3845, 0.7486, 0.222, 1.3655, 1.3639, 1.3542, 1.338, 1.3302, 1.324, 1.3209, 1.3204, 1.3201, 1.3195, 1.3169, 1.3096, 1.3078, 1.3025, 1.2991, 1.2979, 1.2894, 1.2877, 1.2873, 1.2859, 1.2843, 1.2836, 1.2825, 1.2771, 1.2766, 1.2684, 1.268, 1.2635, 1.258, 1.2562, 1.2212, 1.2341, 0.7892, 0.9651, 0.8357, 1.1107, 1.0504, -0.1115, 0.014, 1.5905, 1.5716, 1.5682, 1.5508, 1.5494, 1.5413, 1.5412, 1.5395, 1.5385, 1.5375, 1.5343, 1.5199, 1.512, 1.5099, 1.5063, 1.5014, 1.4964, 1.4893, 1.4688, 1.4661, 1.4625, 1.4593, 1.4574, 1.4438, 1.4341, 1.4215, 1.4207, 1.4166, 1.4154, 1.4108, 1.4049, 1.3532, 1.4026, 1.3959, 1.3827, 0.9977, 0.3753, 1.2388, 1.4473, 1.4437, 1.4311, 1.4261, 1.426, 1.4078, 1.4068, 1.4041, 1.4028, 1.4002, 1.3988, 1.3921, 1.3844, 1.3841, 1.3835, 1.3829, 1.3787, 1.3783, 1.3751, 1.3734, 1.3694, 1.3665, 1.3619, 1.3501, 1.3501, 1.3378, 1.3366, 1.3329, 1.3304, 1.3284, 1.2194, 1.2535, 1.2713, 0.0956, 0.3705, 0.1464, 0.3403]}, \"token.table\": {\"Topic\": [2, 2, 3, 4, 4, 2, 4, 1, 3, 4, 4, 1, 1, 2, 1, 2, 3, 3, 4, 1, 2, 2, 2, 1, 3, 1, 2, 4, 3, 2, 2, 3, 2, 4, 3, 4, 3, 1, 4, 3, 4, 3, 1, 2, 4, 1, 2, 4, 1, 1, 4, 4, 3, 2, 1, 4, 1, 4, 1, 4, 3, 4, 3, 1, 1, 2, 3, 1, 2, 4, 2, 1, 4, 1, 1, 2, 4, 3, 1, 2, 1, 3, 4, 3, 1, 1, 3, 2, 4, 1, 1, 3, 2, 3, 2, 2, 2, 2, 1, 1, 4, 3, 3, 1, 2, 2, 2, 4, 1, 1, 3, 1, 2, 2, 3, 3, 4, 4, 3, 4, 3, 4, 4, 4, 2, 3, 3, 1, 4, 3, 2, 4, 1, 3, 1, 1, 2, 3, 1, 2, 1, 2, 2, 3, 4, 3, 3, 4, 2, 2, 4, 1, 2, 1, 1, 2, 3, 4, 1, 3, 1, 1, 2, 1, 3, 4, 3, 3, 1, 2, 2, 2], \"Freq\": [0.9664199995011622, 0.9409327781716232, 0.9186101178402939, 0.9726786453465862, 0.9720019902257082, 0.1323978296300302, 0.7943869777801812, 0.9023397398682347, 0.08203088544256679, 0.9149630461377826, 0.9305162446868146, 0.9723229578597975, 0.8228954478161956, 0.9553819885059384, 0.8973258168831365, 0.9058518891994948, 0.9386335533534544, 0.9665392233133835, 0.9499575282169427, 0.86515930354729, 0.8654542384249995, 0.9016157135593121, 0.8686175177972157, 0.7031450714964993, 0.29095658130889623, 0.7116213714971402, 0.21896042199912005, 0.9748179712300535, 0.772427236699706, 0.9437824498305696, 0.8460552838965676, 0.7770025685348846, 0.8657659743061406, 0.9180787203646746, 0.7636986595186386, 0.8601004570820805, 0.9725563160213015, 0.864291092097806, 0.9699866514046714, 0.9258741741226763, 0.9740256899541164, 0.8137400232018719, 0.48382793137444374, 0.2605227322785466, 0.2605227322785466, 0.399463768061659, 0.57066252580237, 0.8878462078535382, 0.9020854687358946, 0.8504229072452582, 0.961899277789062, 0.9590447467967288, 0.7224004001272629, 0.9384944223433921, 0.202427368722048, 0.809709474888192, 0.9946447963015147, 0.8792913708589357, 0.6426365384681482, 0.3213182692340741, 0.19937840968412676, 0.797513638736507, 0.9262600676690577, 0.9878361744193546, 0.9756062385201497, 0.10892091110105008, 0.8713672888084006, 0.8618248752260458, 0.9809667281840543, 0.8345999704827622, 0.8256941250777846, 0.9620387626016819, 0.892799343268231, 0.9846826034013114, 0.21427119093608893, 0.7499491682763113, 0.8275965491818773, 0.8157457323533343, 0.9672482427383514, 0.9278010546319555, 0.8464421798804918, 0.8467430383228535, 0.8452788306021712, 0.8635483510312678, 0.9499916018748144, 0.4097508717083062, 0.5463344956110749, 0.7239194443416492, 0.24130648144721642, 0.9330412454719347, 0.952200152408505, 0.7938809636795117, 0.8233196784162422, 0.9394093130809738, 0.9131620853653277, 0.9773900448025161, 0.9383576022484084, 0.9680149444127645, 0.9761165525901038, 0.9070272165066479, 0.9059553660386916, 0.9376791445664396, 0.8795553214268442, 0.9161021268390164, 0.9138515887490749, 0.8669995754186278, 0.6594354316113279, 0.32971771580566395, 0.851971584121021, 0.8911757729222055, 0.8730212995226221, 0.9706049531211953, 0.8730388826762537, 0.17178708400250303, 0.6871483360100121, 0.9629430426392201, 0.9498368149877775, 0.846949253594342, 0.7966312170919477, 0.9263515437833815, 0.9569126049323813, 0.9426949654686932, 0.9226753857651908, 0.9556818254755033, 0.9769796961268674, 0.8694136102724991, 0.8297669634979773, 0.9502352734435229, 0.8858528329972855, 0.8369965719557829, 0.920499139933954, 0.9322041673787779, 0.18558185578107464, 0.7423274231242986, 0.9071034189297152, 0.44949166395419726, 0.550989781621274, 0.9908055816467868, 0.9377649773113915, 0.9280410624890256, 0.6658121221780715, 0.28534805236203065, 0.9576626921738001, 0.8045448074228329, 0.8837624085357889, 0.9223551208739564, 0.7992823714626163, 0.9704983578901911, 0.9893760494645442, 0.8533724281565946, 0.1523879335993919, 0.7750531055350478, 0.2250154177359816, 0.949327149410478, 0.9492382583232111, 0.8989622581977589, 0.780301330495745, 0.9329249072559389, 0.9867155700586778, 0.952890224563147, 0.9278678201136625, 0.9605828174640092, 0.9478903114021008, 0.6942194565175842, 0.047877203897764425, 0.26332462143770435, 0.7933967892075292, 0.7972997833106281, 0.8824586628505275, 0.07353822190421062, 0.9654815884687884, 0.8355407024834963], \"Term\": [\"able\", \"afraid\", \"alcohol\", \"also\", \"anonymous\", \"answer\", \"answer\", \"away\", \"away\", \"back\", \"bad\", \"bed\", \"believe\", \"break\", \"cancel\", \"careful\", \"cause\", \"child\", \"come\", \"completely\", \"condition\", \"contact\", \"continue\", \"corona\", \"corona\", \"coronavirus\", \"coronavirus\", \"cough\", \"crisis\", \"cry\", \"daily\", \"dangerous\", \"daughter\", \"different\", \"disease\", \"draw\", \"drink\", \"early\", \"eat\", \"family\", \"fatigue\", \"favorite\", \"feel\", \"feel\", \"feel\", \"fever\", \"fever\", \"finally\", \"fine\", \"finish\", \"first_time\", \"food\", \"force\", \"friend\", \"fun\", \"fun\", \"get\", \"get_rid\", \"good\", \"good\", \"hard\", \"hard\", \"help\", \"home\", \"hope\", \"hospital\", \"hospital\", \"hot\", \"hour\", \"however\", \"husband\", \"ill\", \"increase\", \"infect\", \"infection\", \"infection\", \"japanese\", \"know\", \"last\", \"leave\", \"let\", \"like\", \"little\", \"live\", \"long\", \"make\", \"make\", \"many\", \"many\", \"mask\", \"maybe\", \"meal\", \"measure\", \"medical\", \"meet\", \"minute\", \"month\", \"much\", \"new\", \"night\", \"number\", \"painful\", \"parent\", \"pass\", \"past\", \"patient\", \"people\", \"people\", \"person\", \"plan\", \"play\", \"positive\", \"possible\", \"pretty\", \"pretty\", \"put\", \"question\", \"question_box\", \"quite\", \"relieve_stress\", \"room\", \"scared\", \"see\", \"shirt\", \"shopping\", \"sick\", \"single\", \"sleep\", \"smile\", \"somewhere\", \"soon\", \"start\", \"state\", \"state\", \"still\", \"stress\", \"stress\", \"stressful\", \"summer\", \"sure\", \"symptom\", \"symptom\", \"take\", \"taste\", \"team\", \"tell\", \"th\", \"thank\", \"think\", \"time\", \"time\", \"tired\", \"tired\", \"today\", \"tomorrow\", \"try\", \"use\", \"video\", \"want\", \"way\", \"week\", \"well\", \"wonder\", \"work\", \"work\", \"work\", \"workplace\", \"wreck\", \"year\", \"year\", \"yesterday\", \"yet\"]}, \"R\": 30, \"lambda.step\": 0.01, \"plot.opts\": {\"xlab\": \"PC1\", \"ylab\": \"PC2\"}, \"topic.order\": [1, 2, 3, 4]};\n",
       "\n",
       "function LDAvis_load_lib(url, callback){\n",
       "  var s = document.createElement('script');\n",
       "  s.src = url;\n",
       "  s.async = true;\n",
       "  s.onreadystatechange = s.onload = callback;\n",
       "  s.onerror = function(){console.warn(\"failed to load library \" + url);};\n",
       "  document.getElementsByTagName(\"head\")[0].appendChild(s);\n",
       "}\n",
       "\n",
       "if(typeof(LDAvis) !== \"undefined\"){\n",
       "   // already loaded: just create the visualization\n",
       "   !function(LDAvis){\n",
       "       new LDAvis(\"#\" + \"ldavis_el41901406917646284961122728674\", ldavis_el41901406917646284961122728674_data);\n",
       "   }(LDAvis);\n",
       "}else if(typeof define === \"function\" && define.amd){\n",
       "   // require.js is available: use it to load d3/LDAvis\n",
       "   require.config({paths: {d3: \"https://d3js.org/d3.v5\"}});\n",
       "   require([\"d3\"], function(d3){\n",
       "      window.d3 = d3;\n",
       "      LDAvis_load_lib(\"https://cdn.jsdelivr.net/gh/bmabey/pyLDAvis@3.3.1/pyLDAvis/js/ldavis.v3.0.0.js\", function(){\n",
       "        new LDAvis(\"#\" + \"ldavis_el41901406917646284961122728674\", ldavis_el41901406917646284961122728674_data);\n",
       "      });\n",
       "    });\n",
       "}else{\n",
       "    // require.js not available: dynamically load d3 & LDAvis\n",
       "    LDAvis_load_lib(\"https://d3js.org/d3.v5.js\", function(){\n",
       "         LDAvis_load_lib(\"https://cdn.jsdelivr.net/gh/bmabey/pyLDAvis@3.3.1/pyLDAvis/js/ldavis.v3.0.0.js\", function(){\n",
       "                 new LDAvis(\"#\" + \"ldavis_el41901406917646284961122728674\", ldavis_el41901406917646284961122728674_data);\n",
       "            })\n",
       "         });\n",
       "}\n",
       "</script>"
      ],
      "text/plain": [
       "PreparedData(topic_coordinates=              x         y  topics  cluster       Freq\n",
       "topic                                                \n",
       "0      0.179491  0.049412       1        1  32.362645\n",
       "1      0.021511 -0.189667       2        1  24.865891\n",
       "2     -0.031153  0.137229       3        1  19.825216\n",
       "3     -0.169849  0.003026       4        1  22.946248, topic_info=          Term       Freq      Total Category  logprob  loglift\n",
       "29      corona  82.000000  82.000000  Default  30.0000  30.0000\n",
       "87      stress  68.000000  68.000000  Default  29.0000  29.0000\n",
       "155        get  38.000000  38.000000  Default  28.0000  28.0000\n",
       "138  stressful  24.000000  24.000000  Default  27.0000  27.0000\n",
       "36     fatigue  26.000000  26.000000  Default  26.0000  26.0000\n",
       "..         ...        ...        ...      ...      ...      ...\n",
       "846     answer   6.179659   7.552994   Topic4  -4.9397   1.2713\n",
       "77        work  10.547293  41.773534   Topic4  -4.4051   0.0956\n",
       "6         good   7.240607  21.785254   Topic4  -4.7813   0.3705\n",
       "37        feel   7.137159  26.869056   Topic4  -4.7956   0.1464\n",
       "49      people   5.868114  18.197384   Topic4  -4.9914   0.3403\n",
       "\n",
       "[187 rows x 6 columns], token_table=      Topic      Freq       Term\n",
       "term                            \n",
       "25        2  0.966420       able\n",
       "173       2  0.940933     afraid\n",
       "513       3  0.918610    alcohol\n",
       "27        4  0.972679       also\n",
       "940       4  0.972002  anonymous\n",
       "...     ...       ...        ...\n",
       "1131      3  0.797300      wreck\n",
       "24        1  0.882459       year\n",
       "24        2  0.073538       year\n",
       "660       2  0.965482  yesterday\n",
       "886       2  0.835541        yet\n",
       "\n",
       "[172 rows x 3 columns], R=30, lambda_step=0.01, plot_opts={'xlab': 'PC1', 'ylab': 'PC2'}, topic_order=[1, 2, 3, 4])"
      ]
     },
     "execution_count": 19,
     "metadata": {},
     "output_type": "execute_result"
    }
   ],
   "source": [
    "vis"
   ]
  },
  {
   "cell_type": "code",
   "execution_count": null,
   "id": "14a1709f",
   "metadata": {},
   "outputs": [],
   "source": []
  }
 ],
 "metadata": {
  "kernelspec": {
   "display_name": "Python 3 (ipykernel)",
   "language": "python",
   "name": "python3"
  },
  "language_info": {
   "codemirror_mode": {
    "name": "ipython",
    "version": 3
   },
   "file_extension": ".py",
   "mimetype": "text/x-python",
   "name": "python",
   "nbconvert_exporter": "python",
   "pygments_lexer": "ipython3",
   "version": "3.8.13"
  }
 },
 "nbformat": 4,
 "nbformat_minor": 5
}
